{
 "cells": [
  {
   "cell_type": "code",
   "execution_count": 1,
   "metadata": {},
   "outputs": [],
   "source": [
    "# importing necessary libraries\n",
    "import pandas as pd\n",
    "from sklearn.model_selection import train_test_split\n",
    "from sklearn.preprocessing import StandardScaler\n",
    "from sklearn.model_selection import GridSearchCV\n",
    "from sklearn.neighbors import KNeighborsClassifier\n",
    "from sklearn.linear_model import LogisticRegression\n",
    "from sklearn.svm import SVC\n",
    "from sklearn import metrics\n",
    "import matplotlib.pyplot as plt\n",
    "import seaborn as sns\n",
    "\n",
    "import warnings\n",
    "warnings.filterwarnings(\"ignore\")"
   ]
  },
  {
   "cell_type": "code",
   "execution_count": 2,
   "metadata": {},
   "outputs": [],
   "source": [
    "# loading the dataset\n",
    "data = pd.read_csv('combined_dataset.csv')"
   ]
  },
  {
   "cell_type": "code",
   "execution_count": 3,
   "metadata": {},
   "outputs": [
    {
     "data": {
      "text/html": [
       "<div>\n",
       "<style scoped>\n",
       "    .dataframe tbody tr th:only-of-type {\n",
       "        vertical-align: middle;\n",
       "    }\n",
       "\n",
       "    .dataframe tbody tr th {\n",
       "        vertical-align: top;\n",
       "    }\n",
       "\n",
       "    .dataframe thead th {\n",
       "        text-align: right;\n",
       "    }\n",
       "</style>\n",
       "<table border=\"1\" class=\"dataframe\">\n",
       "  <thead>\n",
       "    <tr style=\"text-align: right;\">\n",
       "      <th></th>\n",
       "      <th>domain</th>\n",
       "      <th>ranking</th>\n",
       "      <th>isIp</th>\n",
       "      <th>valid</th>\n",
       "      <th>activeDuration</th>\n",
       "      <th>urlLen</th>\n",
       "      <th>is@</th>\n",
       "      <th>isredirect</th>\n",
       "      <th>haveDash</th>\n",
       "      <th>domainLen</th>\n",
       "      <th>nosOfSubdomain</th>\n",
       "      <th>label</th>\n",
       "    </tr>\n",
       "  </thead>\n",
       "  <tbody>\n",
       "    <tr>\n",
       "      <th>0</th>\n",
       "      <td>www.voting-yahoo.com</td>\n",
       "      <td>10000000</td>\n",
       "      <td>0</td>\n",
       "      <td>0</td>\n",
       "      <td>0</td>\n",
       "      <td>20</td>\n",
       "      <td>0</td>\n",
       "      <td>0</td>\n",
       "      <td>1</td>\n",
       "      <td>20</td>\n",
       "      <td>2</td>\n",
       "      <td>1</td>\n",
       "    </tr>\n",
       "    <tr>\n",
       "      <th>1</th>\n",
       "      <td>www.zvon.org/xxl/WSDL1.1/Output/index.html</td>\n",
       "      <td>194914</td>\n",
       "      <td>0</td>\n",
       "      <td>1</td>\n",
       "      <td>7305</td>\n",
       "      <td>42</td>\n",
       "      <td>0</td>\n",
       "      <td>0</td>\n",
       "      <td>0</td>\n",
       "      <td>12</td>\n",
       "      <td>2</td>\n",
       "      <td>0</td>\n",
       "    </tr>\n",
       "    <tr>\n",
       "      <th>2</th>\n",
       "      <td>tecportais.com/file-security-update-infonfmati...</td>\n",
       "      <td>10000000</td>\n",
       "      <td>0</td>\n",
       "      <td>0</td>\n",
       "      <td>0</td>\n",
       "      <td>155</td>\n",
       "      <td>0</td>\n",
       "      <td>0</td>\n",
       "      <td>0</td>\n",
       "      <td>14</td>\n",
       "      <td>1</td>\n",
       "      <td>1</td>\n",
       "    </tr>\n",
       "    <tr>\n",
       "      <th>3</th>\n",
       "      <td>bima.astro.umd.edu/nemo/linuxastro/</td>\n",
       "      <td>7001</td>\n",
       "      <td>0</td>\n",
       "      <td>0</td>\n",
       "      <td>0</td>\n",
       "      <td>35</td>\n",
       "      <td>0</td>\n",
       "      <td>0</td>\n",
       "      <td>0</td>\n",
       "      <td>18</td>\n",
       "      <td>3</td>\n",
       "      <td>0</td>\n",
       "    </tr>\n",
       "    <tr>\n",
       "      <th>4</th>\n",
       "      <td>huarui-tec.com/js/?us.battle.net/login/en/?ref...</td>\n",
       "      <td>10000000</td>\n",
       "      <td>0</td>\n",
       "      <td>1</td>\n",
       "      <td>730</td>\n",
       "      <td>79</td>\n",
       "      <td>0</td>\n",
       "      <td>0</td>\n",
       "      <td>1</td>\n",
       "      <td>14</td>\n",
       "      <td>1</td>\n",
       "      <td>1</td>\n",
       "    </tr>\n",
       "  </tbody>\n",
       "</table>\n",
       "</div>"
      ],
      "text/plain": [
       "                                              domain   ranking  isIp  valid  \\\n",
       "0                               www.voting-yahoo.com  10000000     0      0   \n",
       "1         www.zvon.org/xxl/WSDL1.1/Output/index.html    194914     0      1   \n",
       "2  tecportais.com/file-security-update-infonfmati...  10000000     0      0   \n",
       "3                bima.astro.umd.edu/nemo/linuxastro/      7001     0      0   \n",
       "4  huarui-tec.com/js/?us.battle.net/login/en/?ref...  10000000     0      1   \n",
       "\n",
       "   activeDuration  urlLen  is@  isredirect  haveDash  domainLen  \\\n",
       "0               0      20    0           0         1         20   \n",
       "1            7305      42    0           0         0         12   \n",
       "2               0     155    0           0         0         14   \n",
       "3               0      35    0           0         0         18   \n",
       "4             730      79    0           0         1         14   \n",
       "\n",
       "   nosOfSubdomain  label  \n",
       "0               2      1  \n",
       "1               2      0  \n",
       "2               1      1  \n",
       "3               3      0  \n",
       "4               1      1  "
      ]
     },
     "execution_count": 3,
     "metadata": {},
     "output_type": "execute_result"
    }
   ],
   "source": [
    "# top 5 rows of the dataset\n",
    "data.head()"
   ]
  },
  {
   "cell_type": "markdown",
   "metadata": {},
   "source": [
    "### 1.  Exploratory Data Analysis"
   ]
  },
  {
   "cell_type": "markdown",
   "metadata": {},
   "source": [
    "#### 1.1 Bivariate Analysis to explore feature-feature correlation among continuous features"
   ]
  },
  {
   "cell_type": "code",
   "execution_count": 4,
   "metadata": {},
   "outputs": [
    {
     "data": {
      "text/plain": [
       "<AxesSubplot:>"
      ]
     },
     "execution_count": 4,
     "metadata": {},
     "output_type": "execute_result"
    },
    {
     "data": {
      "image/png": "[encoded data removed]",
      "text/plain": [
       "<Figure size 432x288 with 2 Axes>"
      ]
     },
     "metadata": {
      "needs_background": "light"
     },
     "output_type": "display_data"
    }
   ],
   "source": [
    "# heatmap\n",
    "sns.heatmap(data[['ranking', 'activeDuration', 'urlLen', 'domainLen', 'nosOfSubdomain']].corr(), annot = True)"
   ]
  },
  {
   "cell_type": "markdown",
   "metadata": {},
   "source": [
    "Here, domainLen and nosOfSubdomain are highly correlated with each other resulting in multi-collinearity among which domainLen is to be dropped because noOfSubdomain has weaker correlations with other features"
   ]
  },
  {
   "cell_type": "code",
   "execution_count": 5,
   "metadata": {},
   "outputs": [],
   "source": [
    "# dropping the feature, domainLen\n",
    "data.drop('domainLen', axis = 1, inplace = True)"
   ]
  },
  {
   "cell_type": "markdown",
   "metadata": {},
   "source": [
    "#### 1.2 Bivariate Analysis to explore feature-label relationship for continuous features"
   ]
  },
  {
   "cell_type": "code",
   "execution_count": 6,
   "metadata": {},
   "outputs": [
    {
     "data": {
      "image/png": "[encoded data removed]",
      "text/plain": [
       "<Figure size 1080x1080 with 4 Axes>"
      ]
     },
     "metadata": {
      "needs_background": "light"
     },
     "output_type": "display_data"
    }
   ],
   "source": [
    "# box-plot\n",
    "plt.figure(figsize = (15, 15))\n",
    "plt.subplot(2, 2, 1)\n",
    "sns.boxplot(x = 'label', y = 'ranking', data = data)\n",
    "plt.subplot(2, 2, 2)\n",
    "sns.boxplot(x = 'label', y = 'activeDuration', data = data)\n",
    "plt.subplot(2, 2, 3)\n",
    "sns.boxplot(x = 'label', y = 'urlLen', data = data)\n",
    "plt.subplot(2, 2, 4)\n",
    "sns.boxplot(x = 'label', y = 'nosOfSubdomain', data = data)\n",
    "plt.show()"
   ]
  },
  {
   "cell_type": "markdown",
   "metadata": {},
   "source": [
    "1. Mostly Phished Links or Spam Links have very high ranks (ranking behind) but there are some exceptional pretentious links that may have very good web-page ranks and are the most misleading & dangerous.\n",
    "2. Phished Links very rarely have an active duration of greater than 10,000.\n",
    "3. Phished Links can have very long urls, with lengths exceeding 250 characters (though rarely).\n",
    "4. Legitimate Links mostly have 2 sub-domains but there may be exceptions of 1 or within the range of 2-6. On the other hand, Phished Links have a higher possibility to have more than 2 sub-domains and even though rarely, some of them have even more than 6-35 sub-domains."
   ]
  },
  {
   "cell_type": "markdown",
   "metadata": {},
   "source": [
    "#### 1.3 Checking for missing values"
   ]
  },
  {
   "cell_type": "code",
   "execution_count": 7,
   "metadata": {},
   "outputs": [
    {
     "data": {
      "text/plain": [
       "domain            0\n",
       "ranking           0\n",
       "isIp              0\n",
       "valid             0\n",
       "activeDuration    0\n",
       "urlLen            0\n",
       "is@               0\n",
       "isredirect        0\n",
       "haveDash          0\n",
       "nosOfSubdomain    0\n",
       "label             0\n",
       "dtype: int64"
      ]
     },
     "execution_count": 7,
     "metadata": {},
     "output_type": "execute_result"
    }
   ],
   "source": [
    "data.isnull().sum(axis = 0)"
   ]
  },
  {
   "cell_type": "markdown",
   "metadata": {},
   "source": [
    "### 2. Application of Data Mining Algorithms"
   ]
  },
  {
   "cell_type": "code",
   "execution_count": 8,
   "metadata": {},
   "outputs": [],
   "source": [
    "# getting all the features in X and target label in y\n",
    "X = data.iloc[:, 1:-1]\n",
    "y = data['label']"
   ]
  },
  {
   "cell_type": "code",
   "execution_count": 9,
   "metadata": {},
   "outputs": [],
   "source": [
    "# train-test-split of the dataset\n",
    "X_train, X_test, y_train, y_test = train_test_split(X, y, test_size = 0.25, random_state = 1234)"
   ]
  },
  {
   "cell_type": "code",
   "execution_count": 10,
   "metadata": {},
   "outputs": [],
   "source": [
    "# feature scaling\n",
    "scaler = StandardScaler().fit(X_train)\n",
    "\n",
    "X_train_scaled = scaler.transform(X_train)\n",
    "X_test_scaled = scaler.transform(X_test)"
   ]
  },
  {
   "cell_type": "markdown",
   "metadata": {},
   "source": [
    "#### 2.1 k-Nearest Neighbor (kNN)"
   ]
  },
  {
   "cell_type": "code",
   "execution_count": 11,
   "metadata": {},
   "outputs": [
    {
     "name": "stdout",
     "output_type": "stream",
     "text": [
      "Fitting 5 folds for each of 9 candidates, totalling 45 fits\n",
      "[CV 1/5] END .....................n_neighbors=2;, score=0.906 total time=   5.3s\n",
      "[CV 2/5] END .....................n_neighbors=2;, score=0.908 total time=   5.4s\n",
      "[CV 3/5] END .....................n_neighbors=2;, score=0.907 total time=   5.3s\n",
      "[CV 4/5] END .....................n_neighbors=2;, score=0.908 total time=   5.3s\n",
      "[CV 5/5] END .....................n_neighbors=2;, score=0.902 total time=   5.6s\n",
      "[CV 1/5] END .....................n_neighbors=3;, score=0.916 total time=   5.6s\n",
      "[CV 2/5] END .....................n_neighbors=3;, score=0.921 total time=   5.5s\n",
      "[CV 3/5] END .....................n_neighbors=3;, score=0.919 total time=   6.1s\n",
      "[CV 4/5] END .....................n_neighbors=3;, score=0.920 total time=   5.8s\n",
      "[CV 5/5] END .....................n_neighbors=3;, score=0.922 total time=   5.7s\n",
      "[CV 1/5] END .....................n_neighbors=4;, score=0.912 total time=   5.6s\n",
      "[CV 2/5] END .....................n_neighbors=4;, score=0.916 total time=   5.8s\n",
      "[CV 3/5] END .....................n_neighbors=4;, score=0.911 total time=   5.6s\n",
      "[CV 4/5] END .....................n_neighbors=4;, score=0.914 total time=   5.7s\n",
      "[CV 5/5] END .....................n_neighbors=4;, score=0.916 total time=   6.0s\n",
      "[CV 1/5] END .....................n_neighbors=5;, score=0.919 total time=   5.7s\n",
      "[CV 2/5] END .....................n_neighbors=5;, score=0.922 total time=   5.8s\n",
      "[CV 3/5] END .....................n_neighbors=5;, score=0.925 total time=   5.5s\n",
      "[CV 4/5] END .....................n_neighbors=5;, score=0.923 total time=   5.6s\n",
      "[CV 5/5] END .....................n_neighbors=5;, score=0.922 total time=   5.8s\n",
      "[CV 1/5] END .....................n_neighbors=6;, score=0.916 total time=   5.9s\n",
      "[CV 2/5] END .....................n_neighbors=6;, score=0.920 total time=   5.8s\n",
      "[CV 3/5] END .....................n_neighbors=6;, score=0.923 total time=   5.5s\n",
      "[CV 4/5] END .....................n_neighbors=6;, score=0.920 total time=   5.9s\n",
      "[CV 5/5] END .....................n_neighbors=6;, score=0.921 total time=   6.3s\n",
      "[CV 1/5] END .....................n_neighbors=7;, score=0.920 total time=   6.0s\n",
      "[CV 2/5] END .....................n_neighbors=7;, score=0.923 total time=   6.0s\n",
      "[CV 3/5] END .....................n_neighbors=7;, score=0.924 total time=   5.6s\n",
      "[CV 4/5] END .....................n_neighbors=7;, score=0.923 total time=   5.6s\n",
      "[CV 5/5] END .....................n_neighbors=7;, score=0.923 total time=   6.2s\n",
      "[CV 1/5] END .....................n_neighbors=8;, score=0.919 total time=   6.1s\n",
      "[CV 2/5] END .....................n_neighbors=8;, score=0.923 total time=   6.0s\n",
      "[CV 3/5] END .....................n_neighbors=8;, score=0.923 total time=   5.7s\n",
      "[CV 4/5] END .....................n_neighbors=8;, score=0.924 total time=   5.9s\n",
      "[CV 5/5] END .....................n_neighbors=8;, score=0.921 total time=   6.0s\n",
      "[CV 1/5] END .....................n_neighbors=9;, score=0.919 total time=   5.9s\n",
      "[CV 2/5] END .....................n_neighbors=9;, score=0.923 total time=   6.1s\n",
      "[CV 3/5] END .....................n_neighbors=9;, score=0.925 total time=   5.9s\n",
      "[CV 4/5] END .....................n_neighbors=9;, score=0.923 total time=   6.2s\n",
      "[CV 5/5] END .....................n_neighbors=9;, score=0.923 total time=   6.2s\n",
      "[CV 1/5] END ....................n_neighbors=10;, score=0.919 total time=   5.8s\n",
      "[CV 2/5] END ....................n_neighbors=10;, score=0.923 total time=   5.8s\n",
      "[CV 3/5] END ....................n_neighbors=10;, score=0.924 total time=   6.0s\n",
      "[CV 4/5] END ....................n_neighbors=10;, score=0.922 total time=   6.3s\n",
      "[CV 5/5] END ....................n_neighbors=10;, score=0.922 total time=   6.2s\n",
      "Best Hyper-parameter: {'n_neighbors': 9}\n"
     ]
    }
   ],
   "source": [
    "# kNN Model Training using Grid Search for hyper-parameter tuning\n",
    "knn_model = KNeighborsClassifier()\n",
    "params = {'n_neighbors' : [2, 3, 4, 5, 6, 7, 8, 9, 10]}\n",
    "grid_search = GridSearchCV(knn_model, param_grid = params, cv = 5, verbose = 3).fit(X_train_scaled, y_train)\n",
    "\n",
    "print('Best Hyper-parameter:', grid_search.best_params_)\n",
    "n_neighbors = grid_search.best_params_['n_neighbors']\n",
    "\n",
    "knn_model = KNeighborsClassifier(n_neighbors = n_neighbors).fit(X_train_scaled, y_train)"
   ]
  },
  {
   "cell_type": "markdown",
   "metadata": {},
   "source": [
    "Performance Analysis of the Trained kNN Model ..."
   ]
  },
  {
   "cell_type": "code",
   "execution_count": 12,
   "metadata": {},
   "outputs": [
    {
     "name": "stdout",
     "output_type": "stream",
     "text": [
      "Test Accuracy:  0.9213862707481858\n",
      "Test AUC:  0.9722817007108951\n",
      "Testing Precision:  0.9234650967199327\n",
      "Testing Recall:  0.9432314410480349\n",
      "Testing F1-Score:  0.9332436165315011\n",
      "Testing Confusion Matrix: \n",
      "[[ 8917  1092]\n",
      " [  793 13176]]\n",
      "\n",
      "\n"
     ]
    },
    {
     "data": {
      "image/png": "[encoded data removed]",
      "text/plain": [
       "<Figure size 360x360 with 1 Axes>"
      ]
     },
     "metadata": {
      "needs_background": "light"
     },
     "output_type": "display_data"
    }
   ],
   "source": [
    "# getting the test predictions, test probabilities and test auc score\n",
    "y_test_pred = knn_model.predict(X_test_scaled)\n",
    "y_test_prob = knn_model.predict_proba(X_test_scaled)\n",
    "\n",
    "test_accuracy = metrics.accuracy_score(y_test, y_test_pred)\n",
    "\n",
    "fpr, tpr, thresholds = metrics.roc_curve(y_test, y_test_prob[:,1])\n",
    "roc_auc = metrics.auc(fpr, tpr)\n",
    "\n",
    "test_auc = roc_auc\n",
    "\n",
    "\n",
    "# getting the Test Accuracy and Test AUC Score\n",
    "print(\"Test Accuracy: \", test_accuracy)\n",
    "print(\"Test AUC: \", test_auc)\n",
    "\n",
    "# Getting the Test Precicion, Recall, F1-Score and Confusion Matrix\n",
    "cm = metrics.confusion_matrix(y_test, y_test_pred)\n",
    "TP = cm[1,1] # true positive \n",
    "TN = cm[0,0] # true negatives\n",
    "FP = cm[0,1] # false positives\n",
    "FN = cm[1,0] # false negatives\n",
    "\n",
    "precision = TP/(TP+FP)\n",
    "recall = TP/(TP+FN)\n",
    "f1 = (2*precision*recall)/(precision+recall)\n",
    "\n",
    "print('Testing Precision: ', precision)\n",
    "print('Testing Recall: ', recall)\n",
    "print('Testing F1-Score: ', f1)\n",
    "print('Testing Confusion Matrix: ')\n",
    "print(cm)\n",
    "print('\\n')\n",
    "\n",
    "\n",
    "# displaying the ROC Curve\n",
    "fpr, tpr, thresholds = metrics.roc_curve(y_test, y_test_prob[:,1],\n",
    "                                         drop_intermediate = False)\n",
    "auc_score = metrics.roc_auc_score(y_test, y_test_prob[:,1])\n",
    "plt.figure(figsize=(5, 5))\n",
    "plt.plot( fpr, tpr, label='ROC curve (area = %0.2f)' % auc_score)\n",
    "plt.plot([0, 1], [0, 1], 'k--')\n",
    "plt.xlim([0.0, 1.0])\n",
    "plt.ylim([0.0, 1.05])\n",
    "plt.xlabel('False Positive Rate or [1 - True Negative Rate]')\n",
    "plt.ylabel('True Positive Rate')\n",
    "plt.title('Receiver operating characteristic')\n",
    "plt.legend(loc=\"lower right\")\n",
    "plt.show()"
   ]
  },
  {
   "cell_type": "markdown",
   "metadata": {},
   "source": [
    "#### 2.2 Logistic Regression"
   ]
  },
  {
   "cell_type": "code",
   "execution_count": 13,
   "metadata": {},
   "outputs": [
    {
     "name": "stdout",
     "output_type": "stream",
     "text": [
      "Fitting 5 folds for each of 5 candidates, totalling 25 fits\n",
      "[CV 1/5] END ............................C=0.01;, score=0.875 total time=   0.0s\n",
      "[CV 2/5] END ............................C=0.01;, score=0.877 total time=   0.0s\n",
      "[CV 3/5] END ............................C=0.01;, score=0.876 total time=   0.0s\n",
      "[CV 4/5] END ............................C=0.01;, score=0.872 total time=   0.0s\n",
      "[CV 5/5] END ............................C=0.01;, score=0.878 total time=   0.0s\n",
      "[CV 1/5] END .............................C=0.1;, score=0.875 total time=   0.0s\n",
      "[CV 2/5] END .............................C=0.1;, score=0.875 total time=   0.0s\n",
      "[CV 3/5] END .............................C=0.1;, score=0.875 total time=   0.0s\n",
      "[CV 4/5] END .............................C=0.1;, score=0.871 total time=   0.0s\n",
      "[CV 5/5] END .............................C=0.1;, score=0.877 total time=   0.0s\n",
      "[CV 1/5] END ...............................C=1;, score=0.875 total time=   0.0s\n",
      "[CV 2/5] END ...............................C=1;, score=0.874 total time=   0.0s\n",
      "[CV 3/5] END ...............................C=1;, score=0.874 total time=   0.0s\n",
      "[CV 4/5] END ...............................C=1;, score=0.870 total time=   0.0s\n",
      "[CV 5/5] END ...............................C=1;, score=0.876 total time=   0.0s\n",
      "[CV 1/5] END ..............................C=10;, score=0.875 total time=   0.0s\n",
      "[CV 2/5] END ..............................C=10;, score=0.874 total time=   0.0s\n",
      "[CV 3/5] END ..............................C=10;, score=0.874 total time=   0.0s\n",
      "[CV 4/5] END ..............................C=10;, score=0.870 total time=   0.0s\n",
      "[CV 5/5] END ..............................C=10;, score=0.876 total time=   0.0s\n",
      "[CV 1/5] END .............................C=100;, score=0.875 total time=   0.0s\n",
      "[CV 2/5] END .............................C=100;, score=0.874 total time=   0.0s\n",
      "[CV 3/5] END .............................C=100;, score=0.874 total time=   0.0s\n",
      "[CV 4/5] END .............................C=100;, score=0.870 total time=   0.0s\n",
      "[CV 5/5] END .............................C=100;, score=0.876 total time=   0.0s\n",
      "Best Hyperparameter: {'C': 0.01}\n"
     ]
    }
   ],
   "source": [
    "# Logistic Regression training using hyper-parameter tuning\n",
    "lr_model = LogisticRegression()\n",
    "params = {'C': [0.01, 0.1, 1, 10, 100]}\n",
    "\n",
    "grid_search = GridSearchCV(lr_model, param_grid = params, cv = 5, verbose = 3).fit(X_train_scaled, y_train)\n",
    "\n",
    "print('Best Hyperparameter:', grid_search.best_params_)\n",
    "best_C = grid_search.best_params_['C']\n",
    "\n",
    "lr_model = LogisticRegression(C = best_C).fit(X_train_scaled, y_train)"
   ]
  },
  {
   "cell_type": "markdown",
   "metadata": {},
   "source": [
    "Performance Analysis of the Trained Logistic Regression Model ..."
   ]
  },
  {
   "cell_type": "code",
   "execution_count": 14,
   "metadata": {},
   "outputs": [
    {
     "name": "stdout",
     "output_type": "stream",
     "text": [
      "Test Accuracy:  0.8743014429894069\n",
      "Test AUC:  0.9388948471681522\n",
      "Testing Precision:  0.8830687460661585\n",
      "Testing Recall:  0.9039301310043668\n",
      "Testing F1-Score:  0.893377670864582\n",
      "Testing Confusion Matrix: \n",
      "[[ 8337  1672]\n",
      " [ 1342 12627]]\n",
      "\n",
      "\n"
     ]
    },
    {
     "data": {
      "image/png": "[encoded data removed]",
      "text/plain": [
       "<Figure size 360x360 with 1 Axes>"
      ]
     },
     "metadata": {
      "needs_background": "light"
     },
     "output_type": "display_data"
    }
   ],
   "source": [
    "# getting the test predictions, test probabilities and test auc score\n",
    "y_test_pred = lr_model.predict(X_test_scaled)\n",
    "y_test_prob = lr_model.predict_proba(X_test_scaled)\n",
    "\n",
    "test_accuracy = metrics.accuracy_score(y_test, y_test_pred)\n",
    "\n",
    "fpr, tpr, thresholds = metrics.roc_curve(y_test, y_test_prob[:,1])\n",
    "roc_auc = metrics.auc(fpr, tpr)\n",
    "\n",
    "test_auc = roc_auc\n",
    "\n",
    "\n",
    "# getting the Test Accuracy and Test AUC Score\n",
    "print(\"Test Accuracy: \", test_accuracy)\n",
    "print(\"Test AUC: \", test_auc)\n",
    "\n",
    "# Getting the Test Precicion, Recall, F1-Score and Confusion Matrix\n",
    "cm = metrics.confusion_matrix(y_test, y_test_pred)\n",
    "TP = cm[1,1] # true positive \n",
    "TN = cm[0,0] # true negatives\n",
    "FP = cm[0,1] # false positives\n",
    "FN = cm[1,0] # false negatives\n",
    "\n",
    "precision = TP/(TP+FP)\n",
    "recall = TP/(TP+FN)\n",
    "f1 = (2*precision*recall)/(precision+recall)\n",
    "\n",
    "print('Testing Precision: ', precision)\n",
    "print('Testing Recall: ', recall)\n",
    "print('Testing F1-Score: ', f1)\n",
    "print('Testing Confusion Matrix: ')\n",
    "print(cm)\n",
    "print('\\n')\n",
    "\n",
    "\n",
    "# displaying the ROC Curve\n",
    "fpr, tpr, thresholds = metrics.roc_curve(y_test, y_test_prob[:,1],\n",
    "                                         drop_intermediate = False)\n",
    "auc_score = metrics.roc_auc_score(y_test, y_test_prob[:,1])\n",
    "plt.figure(figsize=(5, 5))\n",
    "plt.plot( fpr, tpr, label='ROC curve (area = %0.2f)' % auc_score)\n",
    "plt.plot([0, 1], [0, 1], 'k--')\n",
    "plt.xlim([0.0, 1.0])\n",
    "plt.ylim([0.0, 1.05])\n",
    "plt.xlabel('False Positive Rate or [1 - True Negative Rate]')\n",
    "plt.ylabel('True Positive Rate')\n",
    "plt.title('Receiver operating characteristic')\n",
    "plt.legend(loc=\"lower right\")\n",
    "plt.show()"
   ]
  },
  {
   "cell_type": "code",
   "execution_count": 15,
   "metadata": {},
   "outputs": [
    {
     "data": {
      "text/html": [
       "<div>\n",
       "<style scoped>\n",
       "    .dataframe tbody tr th:only-of-type {\n",
       "        vertical-align: middle;\n",
       "    }\n",
       "\n",
       "    .dataframe tbody tr th {\n",
       "        vertical-align: top;\n",
       "    }\n",
       "\n",
       "    .dataframe thead th {\n",
       "        text-align: right;\n",
       "    }\n",
       "</style>\n",
       "<table border=\"1\" class=\"dataframe\">\n",
       "  <thead>\n",
       "    <tr style=\"text-align: right;\">\n",
       "      <th></th>\n",
       "      <th>features</th>\n",
       "      <th>coefficients</th>\n",
       "    </tr>\n",
       "  </thead>\n",
       "  <tbody>\n",
       "    <tr>\n",
       "      <th>0</th>\n",
       "      <td>ranking</td>\n",
       "      <td>0.735823</td>\n",
       "    </tr>\n",
       "    <tr>\n",
       "      <th>1</th>\n",
       "      <td>isIp</td>\n",
       "      <td>0.103866</td>\n",
       "    </tr>\n",
       "    <tr>\n",
       "      <th>2</th>\n",
       "      <td>valid</td>\n",
       "      <td>1.513253</td>\n",
       "    </tr>\n",
       "    <tr>\n",
       "      <th>3</th>\n",
       "      <td>activeDuration</td>\n",
       "      <td>-2.405516</td>\n",
       "    </tr>\n",
       "    <tr>\n",
       "      <th>4</th>\n",
       "      <td>urlLen</td>\n",
       "      <td>2.873462</td>\n",
       "    </tr>\n",
       "    <tr>\n",
       "      <th>5</th>\n",
       "      <td>is@</td>\n",
       "      <td>0.096365</td>\n",
       "    </tr>\n",
       "    <tr>\n",
       "      <th>6</th>\n",
       "      <td>isredirect</td>\n",
       "      <td>0.339532</td>\n",
       "    </tr>\n",
       "    <tr>\n",
       "      <th>7</th>\n",
       "      <td>haveDash</td>\n",
       "      <td>0.245113</td>\n",
       "    </tr>\n",
       "    <tr>\n",
       "      <th>8</th>\n",
       "      <td>nosOfSubdomain</td>\n",
       "      <td>-0.605135</td>\n",
       "    </tr>\n",
       "  </tbody>\n",
       "</table>\n",
       "</div>"
      ],
      "text/plain": [
       "         features  coefficients\n",
       "0         ranking      0.735823\n",
       "1            isIp      0.103866\n",
       "2           valid      1.513253\n",
       "3  activeDuration     -2.405516\n",
       "4          urlLen      2.873462\n",
       "5             is@      0.096365\n",
       "6      isredirect      0.339532\n",
       "7        haveDash      0.245113\n",
       "8  nosOfSubdomain     -0.605135"
      ]
     },
     "execution_count": 15,
     "metadata": {},
     "output_type": "execute_result"
    }
   ],
   "source": [
    "# feature coefficients given by the model\n",
    "pd.DataFrame({'features':list(X.columns), 'coefficients':list(lr_model.coef_[0])})"
   ]
  },
  {
   "cell_type": "markdown",
   "metadata": {},
   "source": [
    "1. The higher the page rank (numerically) of a website is, the higher are the chances of the link to be a phished one.\n",
    "2. If there is an IP address in the weblink, most probably the link is a phished/spam link.\n",
    "3. If the current status of URL registration is valid, it is highly probable that the weblink is phished.\n",
    "4. Lower the active duration of the URL, higher is the probability that the weblink is phished.\n",
    "5. Higher the length of the URL, higher is the probability that the website is a phished one.\n",
    "6. If the link has '@' character, there are chances that the website is phished or is a spam link.\n",
    "7. If the link is a redirect, there are chances that the weblink is a spam or phished one.\n",
    "8. If there are dashes present in the domain name, the website link is likely to be phished.\n",
    "9. Lower the number of sub-domains of a website, higher are the chances of the weblink to be phished or spam."
   ]
  },
  {
   "cell_type": "markdown",
   "metadata": {},
   "source": [
    "#### 2.3 Support Vector Machine"
   ]
  },
  {
   "cell_type": "code",
   "execution_count": 16,
   "metadata": {},
   "outputs": [
    {
     "name": "stdout",
     "output_type": "stream",
     "text": [
      "Fitting 5 folds for each of 6 candidates, totalling 30 fits\n",
      "[CV 1/5] END ..............C=0.1, kernel=linear;, score=0.881 total time=  35.1s\n",
      "[CV 2/5] END ..............C=0.1, kernel=linear;, score=0.883 total time=  37.9s\n",
      "[CV 3/5] END ..............C=0.1, kernel=linear;, score=0.883 total time=  38.7s\n",
      "[CV 4/5] END ..............C=0.1, kernel=linear;, score=0.879 total time=  40.1s\n",
      "[CV 5/5] END ..............C=0.1, kernel=linear;, score=0.883 total time=  36.6s\n",
      "[CV 1/5] END .................C=0.1, kernel=rbf;, score=0.893 total time=  50.1s\n",
      "[CV 2/5] END .................C=0.1, kernel=rbf;, score=0.896 total time=  49.0s\n",
      "[CV 3/5] END .................C=0.1, kernel=rbf;, score=0.895 total time=  47.8s\n",
      "[CV 4/5] END .................C=0.1, kernel=rbf;, score=0.892 total time=  48.5s\n",
      "[CV 5/5] END .................C=0.1, kernel=rbf;, score=0.896 total time=  48.1s\n",
      "[CV 1/5] END ................C=1, kernel=linear;, score=0.882 total time=  49.0s\n",
      "[CV 2/5] END ................C=1, kernel=linear;, score=0.883 total time=  46.2s\n",
      "[CV 3/5] END ................C=1, kernel=linear;, score=0.883 total time=  45.8s\n",
      "[CV 4/5] END ................C=1, kernel=linear;, score=0.880 total time=  45.8s\n",
      "[CV 5/5] END ................C=1, kernel=linear;, score=0.882 total time=  47.4s\n",
      "[CV 1/5] END ...................C=1, kernel=rbf;, score=0.895 total time=  45.6s\n",
      "[CV 2/5] END ...................C=1, kernel=rbf;, score=0.898 total time=  45.2s\n",
      "[CV 3/5] END ...................C=1, kernel=rbf;, score=0.896 total time=  44.7s\n",
      "[CV 4/5] END ...................C=1, kernel=rbf;, score=0.894 total time=  45.4s\n",
      "[CV 5/5] END ...................C=1, kernel=rbf;, score=0.898 total time=  44.0s\n",
      "[CV 1/5] END ...............C=10, kernel=linear;, score=0.881 total time= 1.9min\n",
      "[CV 2/5] END ...............C=10, kernel=linear;, score=0.883 total time= 1.8min\n",
      "[CV 3/5] END ...............C=10, kernel=linear;, score=0.883 total time= 1.8min\n",
      "[CV 4/5] END ...............C=10, kernel=linear;, score=0.880 total time= 1.9min\n",
      "[CV 5/5] END ...............C=10, kernel=linear;, score=0.882 total time= 1.8min\n",
      "[CV 1/5] END ..................C=10, kernel=rbf;, score=0.901 total time=  48.3s\n",
      "[CV 2/5] END ..................C=10, kernel=rbf;, score=0.903 total time=  48.6s\n",
      "[CV 3/5] END ..................C=10, kernel=rbf;, score=0.904 total time=  47.8s\n",
      "[CV 4/5] END ..................C=10, kernel=rbf;, score=0.900 total time=  48.4s\n",
      "[CV 5/5] END ..................C=10, kernel=rbf;, score=0.905 total time=  49.1s\n",
      "Best Hyperparameter(s): {'C': 10, 'kernel': 'rbf'}\n"
     ]
    }
   ],
   "source": [
    "# Gradient Boosting Classifier training using Grid Search for hyper-parameter tuning\n",
    "svc_model = SVC(random_state = 1234)\n",
    "params = {'C' : [0.1, 1, 10], 'kernel' : ['linear', 'rbf']}\n",
    "\n",
    "grid_search = GridSearchCV(svc_model, param_grid = params, cv = 5, verbose = 3).fit(X_train_scaled, y_train)\n",
    "\n",
    "print('Best Hyperparameter(s):', grid_search.best_params_)\n",
    "C = grid_search.best_params_['C']\n",
    "kernel = grid_search.best_params_['kernel']\n",
    "\n",
    "svc_model = SVC(C = C, \n",
    "                kernel = kernel, \n",
    "                random_state = 1234,\n",
    "                probability = True).fit(X_train_scaled, y_train)"
   ]
  },
  {
   "cell_type": "markdown",
   "metadata": {},
   "source": [
    "Performance Analysis of the Trained SVC Model ..."
   ]
  },
  {
   "cell_type": "code",
   "execution_count": 17,
   "metadata": {},
   "outputs": [
    {
     "name": "stdout",
     "output_type": "stream",
     "text": [
      "Test Accuracy:  0.9033697556093085\n",
      "Test AUC:  0.9595325693024178\n",
      "Testing Precision:  0.9084981068573833\n",
      "Testing Recall:  0.9275538692819816\n",
      "Testing F1-Score:  0.9179271014133401\n",
      "Testing Confusion Matrix: \n",
      "[[ 8704  1305]\n",
      " [ 1012 12957]]\n",
      "\n",
      "\n"
     ]
    },
    {
     "data": {
      "image/png": "[encoded data removed]",
      "text/plain": [
       "<Figure size 360x360 with 1 Axes>"
      ]
     },
     "metadata": {
      "needs_background": "light"
     },
     "output_type": "display_data"
    }
   ],
   "source": [
    "# getting the test predictions, test probabilities and test auc score\n",
    "y_test_pred = svc_model.predict(X_test_scaled)\n",
    "y_test_prob = svc_model.predict_proba(X_test_scaled)\n",
    "\n",
    "test_accuracy = metrics.accuracy_score(y_test, y_test_pred)\n",
    "\n",
    "fpr, tpr, thresholds = metrics.roc_curve(y_test, y_test_prob[:,1])\n",
    "roc_auc = metrics.auc(fpr, tpr)\n",
    "\n",
    "test_auc = roc_auc\n",
    "\n",
    "\n",
    "# getting the Test Accuracy and Test AUC Score\n",
    "print(\"Test Accuracy: \", test_accuracy)\n",
    "print(\"Test AUC: \", test_auc)\n",
    "\n",
    "# Getting the Test Precicion, Recall, F1-Score and Confusion Matrix\n",
    "cm = metrics.confusion_matrix(y_test, y_test_pred)\n",
    "TP = cm[1,1] # true positive \n",
    "TN = cm[0,0] # true negatives\n",
    "FP = cm[0,1] # false positives\n",
    "FN = cm[1,0] # false negatives\n",
    "\n",
    "precision = TP/(TP+FP)\n",
    "recall = TP/(TP+FN)\n",
    "f1 = (2*precision*recall)/(precision+recall)\n",
    "\n",
    "print('Testing Precision: ', precision)\n",
    "print('Testing Recall: ', recall)\n",
    "print('Testing F1-Score: ', f1)\n",
    "print('Testing Confusion Matrix: ')\n",
    "print(cm)\n",
    "print('\\n')\n",
    "\n",
    "\n",
    "# displaying the ROC Curve\n",
    "fpr, tpr, thresholds = metrics.roc_curve(y_test, y_test_prob[:,1],\n",
    "                                         drop_intermediate = False)\n",
    "auc_score = metrics.roc_auc_score(y_test, y_test_prob[:,1])\n",
    "plt.figure(figsize=(5, 5))\n",
    "plt.plot( fpr, tpr, label='ROC curve (area = %0.2f)' % auc_score)\n",
    "plt.plot([0, 1], [0, 1], 'k--')\n",
    "plt.xlim([0.0, 1.0])\n",
    "plt.ylim([0.0, 1.05])\n",
    "plt.xlabel('False Positive Rate or [1 - True Negative Rate]')\n",
    "plt.ylabel('True Positive Rate')\n",
    "plt.title('Receiver operating characteristic')\n",
    "plt.legend(loc=\"lower right\")\n",
    "plt.show()"
   ]
  }
 ],
 "metadata": {
  "kernelspec": {
   "display_name": "Python 3 (ipykernel)",
   "language": "python",
   "name": "python3"
  },
  "language_info": {
   "codemirror_mode": {
    "name": "ipython",
    "version": 3
   },
   "file_extension": ".py",
   "mimetype": "text/x-python",
   "name": "python",
   "nbconvert_exporter": "python",
   "pygments_lexer": "ipython3",
   "version": "3.9.7"
  }
 },
 "nbformat": 4,
 "nbformat_minor": 4
}
